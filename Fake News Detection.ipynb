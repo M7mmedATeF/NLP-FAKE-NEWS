{
 "cells": [
  {
   "cell_type": "code",
   "execution_count": 55,
   "id": "48e9ec9c",
   "metadata": {
    "scrolled": false
   },
   "outputs": [
    {
     "data": {
      "text/html": [
       "<div>\n",
       "<style scoped>\n",
       "    .dataframe tbody tr th:only-of-type {\n",
       "        vertical-align: middle;\n",
       "    }\n",
       "\n",
       "    .dataframe tbody tr th {\n",
       "        vertical-align: top;\n",
       "    }\n",
       "\n",
       "    .dataframe thead th {\n",
       "        text-align: right;\n",
       "    }\n",
       "</style>\n",
       "<table border=\"1\" class=\"dataframe\">\n",
       "  <thead>\n",
       "    <tr style=\"text-align: right;\">\n",
       "      <th></th>\n",
       "      <th>title</th>\n",
       "      <th>text</th>\n",
       "    </tr>\n",
       "  </thead>\n",
       "  <tbody>\n",
       "    <tr>\n",
       "      <th>3595</th>\n",
       "      <td>Mike Huckabee's daughter: Negative tone in GOP...</td>\n",
       "      <td>\"I don't think it is good for anybody,\" Huckab...</td>\n",
       "    </tr>\n",
       "    <tr>\n",
       "      <th>2787</th>\n",
       "      <td>Hours from deadline, bipartisan Medicare bill ...</td>\n",
       "      <td>America's doctors can rest easy: Not only has ...</td>\n",
       "    </tr>\n",
       "    <tr>\n",
       "      <th>6329</th>\n",
       "      <td>Assange claims ‘crazed’ Clinton campaign tried...</td>\n",
       "      <td>Julian Assange has claimed the Hillary Clinton...</td>\n",
       "    </tr>\n",
       "    <tr>\n",
       "      <th>4724</th>\n",
       "      <td>House Votes To Repeal Affordable Care Act</td>\n",
       "      <td>The House voted 239-186 today to repeal the Af...</td>\n",
       "    </tr>\n",
       "    <tr>\n",
       "      <th>5029</th>\n",
       "      <td>Sanders signals the end is near</td>\n",
       "      <td>\"One should not insist on nailing [Trump] into...</td>\n",
       "    </tr>\n",
       "    <tr>\n",
       "      <th>...</th>\n",
       "      <td>...</td>\n",
       "      <td>...</td>\n",
       "    </tr>\n",
       "    <tr>\n",
       "      <th>5278</th>\n",
       "      <td>Trump, Bush, Fiorina: Three questions, three a...</td>\n",
       "      <td>If they’d known the 2016 Republican contest wo...</td>\n",
       "    </tr>\n",
       "    <tr>\n",
       "      <th>807</th>\n",
       "      <td>Babylon Mystery Religion Series</td>\n",
       "      <td>Part 1 BABYLON \"SUN WORSHIP\" https://www.youtu...</td>\n",
       "    </tr>\n",
       "    <tr>\n",
       "      <th>6114</th>\n",
       "      <td>Clinton Staffer Caught Sacrificing Baby to Dem...</td>\n",
       "      <td>\\nAccording to a new Wikileaks email leak , a ...</td>\n",
       "    </tr>\n",
       "    <tr>\n",
       "      <th>792</th>\n",
       "      <td>Nearly All Wild Animals Face Mass Extinction B...</td>\n",
       "      <td>Sean Adl-Tabatabai in News , World // 0 Comm...</td>\n",
       "    </tr>\n",
       "    <tr>\n",
       "      <th>1253</th>\n",
       "      <td>Outsider campaigns seek inside track</td>\n",
       "      <td>(CNN) Donald Trump and Bernie Sanders are conf...</td>\n",
       "    </tr>\n",
       "  </tbody>\n",
       "</table>\n",
       "<p>5068 rows × 2 columns</p>\n",
       "</div>"
      ],
      "text/plain": [
       "                                                  title  \\\n",
       "3595  Mike Huckabee's daughter: Negative tone in GOP...   \n",
       "2787  Hours from deadline, bipartisan Medicare bill ...   \n",
       "6329  Assange claims ‘crazed’ Clinton campaign tried...   \n",
       "4724          House Votes To Repeal Affordable Care Act   \n",
       "5029                    Sanders signals the end is near   \n",
       "...                                                 ...   \n",
       "5278  Trump, Bush, Fiorina: Three questions, three a...   \n",
       "807                     Babylon Mystery Religion Series   \n",
       "6114  Clinton Staffer Caught Sacrificing Baby to Dem...   \n",
       "792   Nearly All Wild Animals Face Mass Extinction B...   \n",
       "1253               Outsider campaigns seek inside track   \n",
       "\n",
       "                                                   text  \n",
       "3595  \"I don't think it is good for anybody,\" Huckab...  \n",
       "2787  America's doctors can rest easy: Not only has ...  \n",
       "6329  Julian Assange has claimed the Hillary Clinton...  \n",
       "4724  The House voted 239-186 today to repeal the Af...  \n",
       "5029  \"One should not insist on nailing [Trump] into...  \n",
       "...                                                 ...  \n",
       "5278  If they’d known the 2016 Republican contest wo...  \n",
       "807   Part 1 BABYLON \"SUN WORSHIP\" https://www.youtu...  \n",
       "6114  \\nAccording to a new Wikileaks email leak , a ...  \n",
       "792     Sean Adl-Tabatabai in News , World // 0 Comm...  \n",
       "1253  (CNN) Donald Trump and Bernie Sanders are conf...  \n",
       "\n",
       "[5068 rows x 2 columns]"
      ]
     },
     "execution_count": 55,
     "metadata": {},
     "output_type": "execute_result"
    }
   ],
   "source": [
    "import pandas as pd\n",
    "import numpy as np\n",
    "import nltk\n",
    "from sklearn.model_selection import train_test_split\n",
    "\n",
    "df = pd.read_csv(\"news.csv\")\n",
    "X_train, X_test, Y_train, Y_test = train_test_split(df[['title', 'text']], df['label'], test_size=0.2)\n",
    "X_train"
   ]
  },
  {
   "cell_type": "code",
   "execution_count": 56,
   "id": "198e49d6",
   "metadata": {},
   "outputs": [],
   "source": [
    "from nltk.tokenize import word_tokenize\n",
    "from nltk.corpus import stopwords\n",
    "from nltk.corpus import wordnet as wn\n",
    "from nltk.stem import WordNetLemmatizer\n",
    "from nltk.tag import pos_tag\n",
    "from sklearn.feature_extraction.text import TfidfVectorizer\n",
    "\n",
    "eng_stopwords = set(stopwords.words(\"english\"))\n",
    "addToSW = set(['\\'',':',';','\\''])\n",
    "eng_stopwords.union(addToSW)\n",
    "lemma = WordNetLemmatizer()\n",
    "cv= TfidfVectorizer()"
   ]
  },
  {
   "cell_type": "code",
   "execution_count": 57,
   "id": "ede63fec",
   "metadata": {},
   "outputs": [],
   "source": [
    "tag_map = {\n",
    "        'CC':None, # coordin. conjunction (and, but, or)  \n",
    "        'CD':wn.NOUN, # cardinal number (one, two)             \n",
    "        'DT':None, # determiner (a, the)                    \n",
    "        'EX':wn.ADV, # existential ‘there’ (there)           \n",
    "        'FW':None, # foreign word (mea culpa)             \n",
    "        'IN':wn.ADV, # preposition/sub-conj (of, in, by)   \n",
    "        'JJ':wn.ADJ, # adjective (yellow)                  \n",
    "        'JJR':wn.ADJ,  # adj., comparative (bigger)          \n",
    "        'JJS':wn.ADJ,  # adj., superlative (wildest)           \n",
    "        'LS':None, # list item marker (1, 2, One)          \n",
    "        'MD':None, # modal (can, should)                    \n",
    "        'NN':wn.NOUN, # noun, sing. or mass (llama)          \n",
    "        'NNS':wn.NOUN, # noun, plural (llamas)                  \n",
    "        'NNP':wn.NOUN, # proper noun, sing. (IBM)              \n",
    "        'NNPS':wn.NOUN, # proper noun, plural (Carolinas)\n",
    "        'PDT':wn.ADJ, # predeterminer (all, both)            \n",
    "        'POS':None, # possessive ending (’s )               \n",
    "        'PRP':None, # personal pronoun (I, you, he)     \n",
    "        'PRP$':None, # possessive pronoun (your, one’s)    \n",
    "        'RB':wn.ADV, # adverb (quickly, never)            \n",
    "        'RBR':wn.ADV, # adverb, comparative (faster)        \n",
    "        'RBS':wn.ADV, # adverb, superlative (fastest)     \n",
    "        'RP':[wn.ADJ, wn.ADJ_SAT], # particle (up, off)\n",
    "        'SYM':None, # symbol (+,%, &)\n",
    "        'TO':None, # “to” (to)\n",
    "        'UH':None, # interjection (ah, oops)\n",
    "        'VB':wn.VERB, # verb base form (eat)\n",
    "        'VBD':wn.VERB, # verb past tense (ate)\n",
    "        'VBG':wn.VERB, # verb gerund (eating)\n",
    "        'VBN':wn.VERB, # verb past participle (eaten)\n",
    "        'VBP':wn.VERB, # verb non-3sg pres (eat)\n",
    "        'VBZ':wn.VERB, # verb 3sg pres (eats)\n",
    "        'WDT':None, # wh-determiner (which, that)\n",
    "        'WP':None, # wh-pronoun (what, who)\n",
    "        'WP$':None, # possessive (wh- whose)\n",
    "        'WRB':None, # wh-adverb (how, where)\n",
    "        '$':None, #  dollar sign ($)\n",
    "        '#':None, # pound sign (#)\n",
    "        '“':None, # left quote (‘ or “)\n",
    "        '”':None, # right quote (’ or ”)\n",
    "        '(':None, # left parenthesis ([, (, {, <)\n",
    "        ')':None, # right parenthesis (], ), }, >)\n",
    "        ',':None, # comma (,)\n",
    "        '.':None, # sentence-final punc (. ! ?)\n",
    "        ':':None # mid-sentence punc (: ; ... – -)\n",
    "    }"
   ]
  },
  {
   "cell_type": "code",
   "execution_count": 58,
   "id": "b87b451d",
   "metadata": {
    "scrolled": true
   },
   "outputs": [],
   "source": [
    "###################### Helper Functions ######################\n",
    "\n",
    "def labelPreprocess(txt):\n",
    "    if txt == \"FAKE\":\n",
    "        return 0;\n",
    "    return 1\n",
    "\n",
    "def tokenTagingPreprocess(row):\n",
    "    rtRow = []\n",
    "    for token in row:\n",
    "        if token.casefold() not in eng_stopwords:\n",
    "            rtRow.append(token.casefold())\n",
    "    return pos_tag(rtRow);\n",
    "\n",
    "def lemmaPreprocess(row):\n",
    "    rtRow = []\n",
    "    for tag in row:\n",
    "        try:\n",
    "            rtRow.append(lemma.lemmatize(tag[0], pos=tag_map[tag[1]]));\n",
    "        except:\n",
    "            \"err\";\n",
    "    return rtRow;\n",
    "\n",
    "def fittingDT(row):\n",
    "    Rstr = ' '.join(row)\n",
    "    cv.fit_transform([Rstr])\n",
    "    \n",
    "def makeSTR(row):\n",
    "    return ' '.join(row)"
   ]
  },
  {
   "cell_type": "code",
   "execution_count": 59,
   "id": "9c87e132",
   "metadata": {},
   "outputs": [],
   "source": [
    "def Prerocess(X, Y, is_test):\n",
    "    # container Dataframe\n",
    "    df = pd.DataFrame(columns=['title', 'text', 'label'])\n",
    "    \n",
    "    # y-test\n",
    "    df['label'] = Y.apply(labelPreprocess)\n",
    "    \n",
    "    # x-test\n",
    "    # 1- Tokenization:\n",
    "    df['title'] = [word_tokenize(row) for row in X['title']]\n",
    "    df['text'] = [word_tokenize(row) for row in X['text']]\n",
    "    \n",
    "    # 2- Get Pos-Tags:\n",
    "    df['title'] = df['title'].apply(tokenTagingPreprocess)\n",
    "    df['text'] = df['text'].apply(tokenTagingPreprocess)\n",
    "    \n",
    "    # 3- Lemmatiziation:\n",
    "    df['titleWork'] = df['title'].apply(lemmaPreprocess)\n",
    "    df['textWork'] = df['text'].apply(lemmaPreprocess)\n",
    "    \n",
    "    # 4- Remove Empty-Rows (that only contains Stop Words):\n",
    "    df.drop(axis=1,columns=['title','text'],inplace=True)\n",
    "    df = df.loc(len(df['titleWork']) > 0 & len(df['textWork']) > 0).obj\n",
    "    \n",
    "    # 5- Rows Data type array -> string\n",
    "    df['title'] = df['titleWork'].apply(makeSTR)\n",
    "    df['text'] = df['textWork'].apply(makeSTR)\n",
    "    \n",
    "    # 6- Generate TF-IDF\n",
    "    if is_test == False:\n",
    "        textBOW = cv.fit_transform(df['text'].array)\n",
    "        titleBOW = cv.fit_transform(df['title'].array)\n",
    "    else:\n",
    "        textBOW = cv.transform(df['text'].array)\n",
    "        titleBOW = cv.transform(df['title'].array)\n",
    "    \n",
    "    return [titleBOW, textBOW, df['label'].array];"
   ]
  },
  {
   "cell_type": "code",
   "execution_count": 60,
   "id": "abf33fac",
   "metadata": {
    "scrolled": true
   },
   "outputs": [],
   "source": [
    "TrainReadyData = Prerocess(X_train, Y_train, False)\n",
    "trainTitle, trainText, trainLabel = TrainReadyData"
   ]
  },
  {
   "cell_type": "code",
   "execution_count": 61,
   "id": "cef98136",
   "metadata": {},
   "outputs": [],
   "source": [
    "TestReadyData = Prerocess(X_test, Y_test, True)\n",
    "testTitle, testText, testLabel = TestReadyData"
   ]
  },
  {
   "cell_type": "code",
   "execution_count": 71,
   "id": "7a85267d",
   "metadata": {},
   "outputs": [
    {
     "data": {
      "text/html": [
       "<style>#sk-container-id-11 {color: black;background-color: white;}#sk-container-id-11 pre{padding: 0;}#sk-container-id-11 div.sk-toggleable {background-color: white;}#sk-container-id-11 label.sk-toggleable__label {cursor: pointer;display: block;width: 100%;margin-bottom: 0;padding: 0.3em;box-sizing: border-box;text-align: center;}#sk-container-id-11 label.sk-toggleable__label-arrow:before {content: \"▸\";float: left;margin-right: 0.25em;color: #696969;}#sk-container-id-11 label.sk-toggleable__label-arrow:hover:before {color: black;}#sk-container-id-11 div.sk-estimator:hover label.sk-toggleable__label-arrow:before {color: black;}#sk-container-id-11 div.sk-toggleable__content {max-height: 0;max-width: 0;overflow: hidden;text-align: left;background-color: #f0f8ff;}#sk-container-id-11 div.sk-toggleable__content pre {margin: 0.2em;color: black;border-radius: 0.25em;background-color: #f0f8ff;}#sk-container-id-11 input.sk-toggleable__control:checked~div.sk-toggleable__content {max-height: 200px;max-width: 100%;overflow: auto;}#sk-container-id-11 input.sk-toggleable__control:checked~label.sk-toggleable__label-arrow:before {content: \"▾\";}#sk-container-id-11 div.sk-estimator input.sk-toggleable__control:checked~label.sk-toggleable__label {background-color: #d4ebff;}#sk-container-id-11 div.sk-label input.sk-toggleable__control:checked~label.sk-toggleable__label {background-color: #d4ebff;}#sk-container-id-11 input.sk-hidden--visually {border: 0;clip: rect(1px 1px 1px 1px);clip: rect(1px, 1px, 1px, 1px);height: 1px;margin: -1px;overflow: hidden;padding: 0;position: absolute;width: 1px;}#sk-container-id-11 div.sk-estimator {font-family: monospace;background-color: #f0f8ff;border: 1px dotted black;border-radius: 0.25em;box-sizing: border-box;margin-bottom: 0.5em;}#sk-container-id-11 div.sk-estimator:hover {background-color: #d4ebff;}#sk-container-id-11 div.sk-parallel-item::after {content: \"\";width: 100%;border-bottom: 1px solid gray;flex-grow: 1;}#sk-container-id-11 div.sk-label:hover label.sk-toggleable__label {background-color: #d4ebff;}#sk-container-id-11 div.sk-serial::before {content: \"\";position: absolute;border-left: 1px solid gray;box-sizing: border-box;top: 0;bottom: 0;left: 50%;z-index: 0;}#sk-container-id-11 div.sk-serial {display: flex;flex-direction: column;align-items: center;background-color: white;padding-right: 0.2em;padding-left: 0.2em;position: relative;}#sk-container-id-11 div.sk-item {position: relative;z-index: 1;}#sk-container-id-11 div.sk-parallel {display: flex;align-items: stretch;justify-content: center;background-color: white;position: relative;}#sk-container-id-11 div.sk-item::before, #sk-container-id-11 div.sk-parallel-item::before {content: \"\";position: absolute;border-left: 1px solid gray;box-sizing: border-box;top: 0;bottom: 0;left: 50%;z-index: -1;}#sk-container-id-11 div.sk-parallel-item {display: flex;flex-direction: column;z-index: 1;position: relative;background-color: white;}#sk-container-id-11 div.sk-parallel-item:first-child::after {align-self: flex-end;width: 50%;}#sk-container-id-11 div.sk-parallel-item:last-child::after {align-self: flex-start;width: 50%;}#sk-container-id-11 div.sk-parallel-item:only-child::after {width: 0;}#sk-container-id-11 div.sk-dashed-wrapped {border: 1px dashed gray;margin: 0 0.4em 0.5em 0.4em;box-sizing: border-box;padding-bottom: 0.4em;background-color: white;}#sk-container-id-11 div.sk-label label {font-family: monospace;font-weight: bold;display: inline-block;line-height: 1.2em;}#sk-container-id-11 div.sk-label-container {text-align: center;}#sk-container-id-11 div.sk-container {/* jupyter's `normalize.less` sets `[hidden] { display: none; }` but bootstrap.min.css set `[hidden] { display: none !important; }` so we also need the `!important` here to be able to override the default hidden behavior on the sphinx rendered scikit-learn.org. See: https://github.com/scikit-learn/scikit-learn/issues/21755 */display: inline-block !important;position: relative;}#sk-container-id-11 div.sk-text-repr-fallback {display: none;}</style><div id=\"sk-container-id-11\" class=\"sk-top-container\"><div class=\"sk-text-repr-fallback\"><pre>PassiveAggressiveClassifier()</pre><b>In a Jupyter environment, please rerun this cell to show the HTML representation or trust the notebook. <br />On GitHub, the HTML representation is unable to render, please try loading this page with nbviewer.org.</b></div><div class=\"sk-container\" hidden><div class=\"sk-item\"><div class=\"sk-estimator sk-toggleable\"><input class=\"sk-toggleable__control sk-hidden--visually\" id=\"sk-estimator-id-11\" type=\"checkbox\" checked><label for=\"sk-estimator-id-11\" class=\"sk-toggleable__label sk-toggleable__label-arrow\">PassiveAggressiveClassifier</label><div class=\"sk-toggleable__content\"><pre>PassiveAggressiveClassifier()</pre></div></div></div></div></div>"
      ],
      "text/plain": [
       "PassiveAggressiveClassifier()"
      ]
     },
     "execution_count": 71,
     "metadata": {},
     "output_type": "execute_result"
    }
   ],
   "source": [
    "# Modeling with title\n",
    "from sklearn.linear_model import PassiveAggressiveClassifier\n",
    "clf = PassiveAggressiveClassifier(max_iter=1000)\n",
    "clf.fit(trainTitle, trainLabel)"
   ]
  },
  {
   "cell_type": "code",
   "execution_count": 73,
   "id": "88b9264e",
   "metadata": {},
   "outputs": [
    {
     "name": "stdout",
     "output_type": "stream",
     "text": [
      "Accuracy: 0.744277821625888\n"
     ]
    }
   ],
   "source": [
    "from sklearn.metrics import accuracy_score\n",
    "\n",
    "y_pred = clf.predict(testTitle)\n",
    "acc = accuracy_score(testLabel, y_pred)\n",
    "print(\"Accuracy:\", acc)"
   ]
  },
  {
   "cell_type": "code",
   "execution_count": 64,
   "id": "6f5205c0",
   "metadata": {},
   "outputs": [],
   "source": [
    "def getTheTruth(title):\n",
    "    tokens = word_tokenize(title)\n",
    "    tags = tokenTagingPreprocess(tokens)\n",
    "    lemmas = lemmaPreprocess(tags)\n",
    "    corpus = [makeSTR(lemmas)]\n",
    "    TfId = cv.transform(corpus)\n",
    "    if clf.predict(TfId) == 1:\n",
    "        return \"Real\"\n",
    "    return \"Fake\""
   ]
  },
  {
   "cell_type": "code",
   "execution_count": 72,
   "id": "dec913fe",
   "metadata": {},
   "outputs": [
    {
     "name": "stdout",
     "output_type": "stream",
     "text": [
      "It is:  Fake\n"
     ]
    }
   ],
   "source": [
    "print(\"It is: \", getTheTruth('America searches for peace'))"
   ]
  },
  {
   "cell_type": "code",
   "execution_count": null,
   "id": "37293e22",
   "metadata": {},
   "outputs": [],
   "source": []
  }
 ],
 "metadata": {
  "kernelspec": {
   "display_name": "Python 3 (ipykernel)",
   "language": "python",
   "name": "python3"
  },
  "language_info": {
   "codemirror_mode": {
    "name": "ipython",
    "version": 3
   },
   "file_extension": ".py",
   "mimetype": "text/x-python",
   "name": "python",
   "nbconvert_exporter": "python",
   "pygments_lexer": "ipython3",
   "version": "3.9.13"
  }
 },
 "nbformat": 4,
 "nbformat_minor": 5
}
