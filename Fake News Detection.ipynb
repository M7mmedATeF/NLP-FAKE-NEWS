{
 "cells": [
  {
   "cell_type": "code",
   "execution_count": null,
   "id": "48e9ec9c",
   "metadata": {
    "scrolled": false
   },
   "outputs": [],
   "source": [
    "import pandas as pd\n",
    "from sklearn.model_selection import train_test_split\n",
    "\n",
    "df = pd.read_csv(\"news.csv\")\n",
    "X_train, X_test, Y_train, Y_test = train_test_split(df[['text']], df['label'], test_size=0.2)\n",
    "X_train.head()"
   ]
  },
  {
   "cell_type": "code",
   "execution_count": null,
   "id": "198e49d6",
   "metadata": {},
   "outputs": [],
   "source": [
    "from nltk.tokenize import word_tokenize\n",
    "from nltk.corpus import stopwords\n",
    "from nltk.corpus import wordnet as wn\n",
    "from nltk.stem import WordNetLemmatizer\n",
    "from nltk.tag import pos_tag\n",
    "from sklearn.feature_extraction.text import TfidfVectorizer\n",
    "\n",
    "eng_stopwords = set(stopwords.words(\"english\"))\n",
    "addToSW = set(['\\'',':',';'])\n",
    "eng_stopwords.union(addToSW)\n",
    "lemma = WordNetLemmatizer()\n",
    "cv = TfidfVectorizer()"
   ]
  },
  {
   "attachments": {},
   "cell_type": "markdown",
   "id": "8b5e5ed6",
   "metadata": {},
   "source": [
    "Defining Tag Map"
   ]
  },
  {
   "cell_type": "code",
   "execution_count": null,
   "id": "ede63fec",
   "metadata": {},
   "outputs": [],
   "source": [
    "tag_map = {\n",
    "        'CC':None, # coordin. conjunction (and, but, or)  \n",
    "        'CD':wn.NOUN, # cardinal number (one, two)             \n",
    "        'DT':None, # determiner (a, the)                    \n",
    "        'EX':wn.ADV, # existential ‘there’ (there)           \n",
    "        'FW':None, # foreign word (mea culpa)             \n",
    "        'IN':wn.ADV, # preposition/sub-conj (of, in, by)   \n",
    "        'JJ':wn.ADJ, # adjective (yellow)                  \n",
    "        'JJR':wn.ADJ,  # adj., comparative (bigger)          \n",
    "        'JJS':wn.ADJ,  # adj., superlative (wildest)           \n",
    "        'LS':None, # list item marker (1, 2, One)          \n",
    "        'MD':None, # modal (can, should)                    \n",
    "        'NN':wn.NOUN, # noun, sing. or mass (llama)          \n",
    "        'NNS':wn.NOUN, # noun, plural (llamas)                  \n",
    "        'NNP':wn.NOUN, # proper noun, sing. (IBM)              \n",
    "        'NNPS':wn.NOUN, # proper noun, plural (Carolinas)\n",
    "        'PDT':wn.ADJ, # predeterminer (all, both)            \n",
    "        'POS':None, # possessive ending (’s )               \n",
    "        'PRP':None, # personal pronoun (I, you, he)     \n",
    "        'PRP$':None, # possessive pronoun (your, one’s)    \n",
    "        'RB':wn.ADV, # adverb (quickly, never)            \n",
    "        'RBR':wn.ADV, # adverb, comparative (faster)        \n",
    "        'RBS':wn.ADV, # adverb, superlative (fastest)     \n",
    "        'RP':[wn.ADJ, wn.ADJ_SAT], # particle (up, off)\n",
    "        'SYM':None, # symbol (+,%, &)\n",
    "        'TO':None, # “to” (to)\n",
    "        'UH':None, # interjection (ah, oops)\n",
    "        'VB':wn.VERB, # verb base form (eat)\n",
    "        'VBD':wn.VERB, # verb past tense (ate)\n",
    "        'VBG':wn.VERB, # verb gerund (eating)\n",
    "        'VBN':wn.VERB, # verb past participle (eaten)\n",
    "        'VBP':wn.VERB, # verb non-3sg pres (eat)\n",
    "        'VBZ':wn.VERB, # verb 3sg pres (eats)\n",
    "        'WDT':None, # wh-determiner (which, that)\n",
    "        'WP':None, # wh-pronoun (what, who)\n",
    "        'WP$':None, # possessive (wh- whose)\n",
    "        'WRB':None, # wh-adverb (how, where)\n",
    "        '$':None, #  dollar sign ($)\n",
    "        '#':None, # pound sign (#)\n",
    "        '\"':None, # left quote (‘ or “)\n",
    "        '\"':None, # right quote (’ or ”)\n",
    "        '(':None, # left parenthesis ([, (, {, <)\n",
    "        ')':None, # right parenthesis (], ), }, >)\n",
    "        ',':None, # comma (,)\n",
    "        '.':None, # sentence-final punc (. ! ?)\n",
    "        ':':None # mid-sentence punc (: ; ... – -)\n",
    "    }"
   ]
  },
  {
   "attachments": {},
   "cell_type": "markdown",
   "id": "a6e0708a",
   "metadata": {},
   "source": [
    "Helper Functions and main preprocesses"
   ]
  },
  {
   "cell_type": "code",
   "execution_count": null,
   "id": "b87b451d",
   "metadata": {
    "scrolled": true
   },
   "outputs": [],
   "source": [
    "def labelPreprocess(txt):\n",
    "    if txt == \"FAKE\":\n",
    "        return 0;\n",
    "    return 1\n",
    "\n",
    "def tokenTagingPreprocess(row):\n",
    "    rtRow = []\n",
    "    for token in row:\n",
    "        if token.casefold() not in eng_stopwords:\n",
    "            rtRow.append(token.casefold())\n",
    "    return pos_tag(rtRow);\n",
    "\n",
    "def lemmaPreprocess(row):\n",
    "    rtRow = []\n",
    "    for tag in row:\n",
    "        try:\n",
    "            rtRow.append(lemma.lemmatize(tag[0], pos=tag_map[tag[1]]));\n",
    "        except:\n",
    "            \"err\";\n",
    "    return rtRow;\n",
    "\n",
    "def makeSTR(row):\n",
    "    return ' '.join(row)\n",
    "\n",
    "def Prerocess(X, Y, is_test):\n",
    "\n",
    "    df = pd.DataFrame(columns=['text', 'label'])\n",
    "    \n",
    "    df['label'] = Y.apply(labelPreprocess)\n",
    "    \n",
    "    # 1- Tokenization and remove StopWords:\n",
    "    df['text'] = [word_tokenize(row) for row in X['text']]\n",
    "    \n",
    "    # 2- Get Pos-Tags: ('Ahmed','NNP')\n",
    "    df['text'] = df['text'].apply(tokenTagingPreprocess)\n",
    "    \n",
    "    # 3- Lemmatiziation with pos-tag: is -> be\n",
    "    df['textWork'] = df['text'].apply(lemmaPreprocess)\n",
    "    \n",
    "    # 4- Remove Empty-Rows (that only contains Stop Words): the that about -> \"\"\n",
    "    df.drop(axis=1,columns=['text'],inplace=True)\n",
    "    df = df.loc(len(df['textWork']) > 0).obj\n",
    "    \n",
    "    # 5- Rows Data type array -> string [\"asda asdasd\", \"sadasd\"]\n",
    "    df['text'] = df['textWork'].apply(makeSTR)\n",
    "    \n",
    "    # 6- Generate TF-IDF\n",
    "    if is_test == False:\n",
    "        textBOW = cv.fit_transform(df['text'].array) \n",
    "    else:\n",
    "        textBOW = cv.transform(df['text'].array)\n",
    "    \n",
    "    return [textBOW, df['label'].array]\n",
    "\n",
    "def getTheTruth(title):\n",
    "    tokens = word_tokenize(title)\n",
    "    tags = tokenTagingPreprocess(tokens)\n",
    "    lemmas = lemmaPreprocess(tags)\n",
    "    corpus = [makeSTR(lemmas)]\n",
    "    TfId = cv.transform(corpus)\n",
    "    if pac.predict(TfId) == 1:\n",
    "        return \"Real\"\n",
    "    return \"Fake\""
   ]
  },
  {
   "attachments": {},
   "cell_type": "markdown",
   "id": "0391fb1a",
   "metadata": {},
   "source": [
    "Preprocess Model Training Data"
   ]
  },
  {
   "cell_type": "code",
   "execution_count": null,
   "id": "abf33fac",
   "metadata": {
    "scrolled": true
   },
   "outputs": [],
   "source": [
    "TrainReadyData = Prerocess(X_train, Y_train, False)\n",
    "trainText, trainLabel = TrainReadyData"
   ]
  },
  {
   "attachments": {},
   "cell_type": "markdown",
   "id": "10a06f85",
   "metadata": {},
   "source": [
    "Preprocess Model Tesing Data"
   ]
  },
  {
   "cell_type": "code",
   "execution_count": null,
   "id": "cef98136",
   "metadata": {},
   "outputs": [],
   "source": [
    "TestReadyData = Prerocess(X_test, Y_test, True)\n",
    "testText, testLabel = TestReadyData"
   ]
  },
  {
   "attachments": {},
   "cell_type": "markdown",
   "id": "61f1ebf6",
   "metadata": {},
   "source": [
    "Model Training & Testing\n"
   ]
  },
  {
   "cell_type": "code",
   "execution_count": null,
   "id": "7a85267d",
   "metadata": {},
   "outputs": [],
   "source": [
    "from sklearn.linear_model import PassiveAggressiveClassifier\n",
    "pac = PassiveAggressiveClassifier(max_iter=100)\n",
    "pac.fit(trainText, trainLabel)\n",
    "\n",
    "# Data Testing\n",
    "y_pred = pac.predict(testText)"
   ]
  },
  {
   "attachments": {},
   "cell_type": "markdown",
   "id": "cb4227c9",
   "metadata": {},
   "source": [
    "Data Visualization"
   ]
  },
  {
   "cell_type": "code",
   "execution_count": null,
   "id": "4029dee8",
   "metadata": {},
   "outputs": [],
   "source": [
    "import matplotlib.pyplot as plt\n",
    "from sklearn import metrics\n",
    "\n",
    "confusion_matrix = metrics.confusion_matrix(testLabel, y_pred)\n",
    "\n",
    "cm_display = metrics.ConfusionMatrixDisplay(confusion_matrix = confusion_matrix, display_labels = ['Fake', 'Real'])\n",
    "cm_display.plot(cmap='Purples')\n",
    "plt.show()\n",
    "print(\"Accuracy:\\t\",metrics.accuracy_score(testLabel, y_pred)\n",
    "     ,\"\\nPrecision:\\t\",metrics.precision_score(testLabel, y_pred)\n",
    "     ,\"\\nrecall:\\t\\t\",metrics.recall_score(testLabel, y_pred)\n",
    "     ,\"\\nF1_score:\\t\",metrics.f1_score(testLabel, y_pred))"
   ]
  },
  {
   "cell_type": "code",
   "execution_count": null,
   "id": "28c097b5",
   "metadata": {},
   "outputs": [],
   "source": [
    "from sklearn.svm import SVC\n",
    "\n",
    "svm_model = SVC(kernel='linear')\n",
    "svm_model.fit(trainText, trainLabel)\n",
    "\n",
    "# Data Testing\n",
    "y_pred = svm_model.predict(testText)\n",
    "\n",
    "confusion_matrix = metrics.confusion_matrix(testLabel, y_pred)\n",
    "\n",
    "cm_display = metrics.ConfusionMatrixDisplay(confusion_matrix = confusion_matrix, display_labels = ['Fake', 'Real'])\n",
    "cm_display.plot(cmap='Purples')\n",
    "plt.show()\n",
    "print(\"Accuracy:\\t\",metrics.accuracy_score(testLabel, y_pred)\n",
    "     ,\"\\nPrecision:\\t\",metrics.precision_score(testLabel, y_pred)\n",
    "     ,\"\\nrecall:\\t\\t\",metrics.recall_score(testLabel, y_pred)\n",
    "     ,\"\\nF1_score:\\t\",metrics.f1_score(testLabel, y_pred))"
   ]
  },
  {
   "attachments": {},
   "cell_type": "markdown",
   "id": "d1e0594a",
   "metadata": {},
   "source": [
    "Predict data"
   ]
  },
  {
   "cell_type": "code",
   "execution_count": null,
   "id": "dec913fe",
   "metadata": {
    "scrolled": false
   },
   "outputs": [],
   "source": [
    "theySaid = '''\"Washington (CNN) The faction of the GOP that is unhappy with Donald Trump as the party's presumptive nominee has one last plan to stop the mogul: staging an all-out delegate revolt at the Republican National Convention.'''\n",
    "print(\"It is: \", getTheTruth(theySaid))"
   ]
  }
 ],
 "metadata": {
  "kernelspec": {
   "display_name": "Python 3 (ipykernel)",
   "language": "python",
   "name": "python3"
  },
  "language_info": {
   "codemirror_mode": {
    "name": "ipython",
    "version": 3
   },
   "file_extension": ".py",
   "mimetype": "text/x-python",
   "name": "python",
   "nbconvert_exporter": "python",
   "pygments_lexer": "ipython3",
   "version": "3.9.13"
  }
 },
 "nbformat": 4,
 "nbformat_minor": 5
}
